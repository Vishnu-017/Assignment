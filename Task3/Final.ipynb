{
 "cells": [
  {
   "cell_type": "code",
   "execution_count": 1,
   "metadata": {},
   "outputs": [],
   "source": [
    "import pandas as pd\n",
    "import numpy as np\n",
    "import matplotlib.pyplot as plt\n",
    "import seaborn as sns"
   ]
  },
  {
   "cell_type": "code",
   "execution_count": 3,
   "metadata": {},
   "outputs": [
    {
     "data": {
      "text/html": [
       "<div>\n",
       "<style scoped>\n",
       "    .dataframe tbody tr th:only-of-type {\n",
       "        vertical-align: middle;\n",
       "    }\n",
       "\n",
       "    .dataframe tbody tr th {\n",
       "        vertical-align: top;\n",
       "    }\n",
       "\n",
       "    .dataframe thead th {\n",
       "        text-align: right;\n",
       "    }\n",
       "</style>\n",
       "<table border=\"1\" class=\"dataframe\">\n",
       "  <thead>\n",
       "    <tr style=\"text-align: right;\">\n",
       "      <th></th>\n",
       "      <th>date</th>\n",
       "      <th>time</th>\n",
       "      <th>sensor</th>\n",
       "      <th>location</th>\n",
       "      <th>number</th>\n",
       "      <th>activity</th>\n",
       "      <th>position</th>\n",
       "      <th>location.1</th>\n",
       "    </tr>\n",
       "  </thead>\n",
       "  <tbody>\n",
       "    <tr>\n",
       "      <th>0</th>\n",
       "      <td>1-16-2024</td>\n",
       "      <td>10.10.30 AM</td>\n",
       "      <td>0.0</td>\n",
       "      <td>A1</td>\n",
       "      <td>1</td>\n",
       "      <td>placed</td>\n",
       "      <td>inside</td>\n",
       "      <td>A1</td>\n",
       "    </tr>\n",
       "    <tr>\n",
       "      <th>1</th>\n",
       "      <td>1-16-2024</td>\n",
       "      <td>10.12.30 AM</td>\n",
       "      <td>1.0</td>\n",
       "      <td>A2</td>\n",
       "      <td>1</td>\n",
       "      <td>picked</td>\n",
       "      <td>inside</td>\n",
       "      <td>A2</td>\n",
       "    </tr>\n",
       "    <tr>\n",
       "      <th>2</th>\n",
       "      <td>1-16-2024</td>\n",
       "      <td>10.28.30 AM</td>\n",
       "      <td>1.0</td>\n",
       "      <td>A3</td>\n",
       "      <td>1</td>\n",
       "      <td>picked</td>\n",
       "      <td>Inside</td>\n",
       "      <td>A3</td>\n",
       "    </tr>\n",
       "    <tr>\n",
       "      <th>3</th>\n",
       "      <td>1-16-2024</td>\n",
       "      <td>10.38.20 AM</td>\n",
       "      <td>0.0</td>\n",
       "      <td>A4</td>\n",
       "      <td>1</td>\n",
       "      <td>placed</td>\n",
       "      <td>Inside</td>\n",
       "      <td>A4</td>\n",
       "    </tr>\n",
       "    <tr>\n",
       "      <th>4</th>\n",
       "      <td>1-16-2024</td>\n",
       "      <td>10.45.20 AM</td>\n",
       "      <td>1.0</td>\n",
       "      <td>A5</td>\n",
       "      <td>1</td>\n",
       "      <td>placed</td>\n",
       "      <td>inside</td>\n",
       "      <td>A5</td>\n",
       "    </tr>\n",
       "  </tbody>\n",
       "</table>\n",
       "</div>"
      ],
      "text/plain": [
       "        date         time  sensor location  number activity position  \\\n",
       "0  1-16-2024  10.10.30 AM     0.0       A1       1   placed   inside   \n",
       "1  1-16-2024  10.12.30 AM     1.0       A2       1   picked   inside   \n",
       "2  1-16-2024  10.28.30 AM     1.0       A3       1   picked   Inside   \n",
       "3  1-16-2024  10.38.20 AM     0.0       A4       1   placed   Inside   \n",
       "4  1-16-2024  10.45.20 AM     1.0       A5       1   placed   inside   \n",
       "\n",
       "  location.1  \n",
       "0         A1  \n",
       "1         A2  \n",
       "2         A3  \n",
       "3         A4  \n",
       "4         A5  "
      ]
     },
     "execution_count": 3,
     "metadata": {},
     "output_type": "execute_result"
    }
   ],
   "source": [
    "data = pd.read_csv('rawdata.csv')\n",
    "data.head()"
   ]
  },
  {
   "cell_type": "code",
   "execution_count": 5,
   "metadata": {},
   "outputs": [
    {
     "name": "stdout",
     "output_type": "stream",
     "text": [
      "<class 'pandas.core.frame.DataFrame'>\n",
      "RangeIndex: 175 entries, 0 to 174\n",
      "Data columns (total 8 columns):\n",
      " #   Column      Non-Null Count  Dtype  \n",
      "---  ------      --------------  -----  \n",
      " 0   date        175 non-null    object \n",
      " 1   time        175 non-null    object \n",
      " 2   sensor      174 non-null    float64\n",
      " 3   location    175 non-null    object \n",
      " 4   number      175 non-null    int64  \n",
      " 5   activity    175 non-null    object \n",
      " 6   position    175 non-null    object \n",
      " 7   location.1  175 non-null    object \n",
      "dtypes: float64(1), int64(1), object(6)\n",
      "memory usage: 11.1+ KB\n"
     ]
    }
   ],
   "source": [
    "data.info()"
   ]
  },
  {
   "cell_type": "code",
   "execution_count": 44,
   "metadata": {},
   "outputs": [],
   "source": [
    "data['date'] = pd.to_datetime(data['date'])"
   ]
  },
  {
   "cell_type": "code",
   "execution_count": 45,
   "metadata": {},
   "outputs": [],
   "source": [
    "data = data.sort_values(by='DateTime')"
   ]
  },
  {
   "cell_type": "code",
   "execution_count": 46,
   "metadata": {},
   "outputs": [],
   "source": [
    "data['Duration'] = data.groupby('location')['DateTime'].diff()"
   ]
  },
  {
   "cell_type": "code",
   "execution_count": 47,
   "metadata": {},
   "outputs": [
    {
     "data": {
      "text/plain": [
       "44                NaT\n",
       "46                NaT\n",
       "47                NaT\n",
       "48                NaT\n",
       "49                NaT\n",
       "            ...      \n",
       "143   0 days 04:18:32\n",
       "144   0 days 04:15:50\n",
       "145   0 days 05:41:40\n",
       "146   0 days 05:42:25\n",
       "147   0 days 05:59:30\n",
       "Name: Duration, Length: 141, dtype: timedelta64[ns]"
      ]
     },
     "execution_count": 47,
     "metadata": {},
     "output_type": "execute_result"
    }
   ],
   "source": [
    "data['Duration']"
   ]
  },
  {
   "cell_type": "code",
   "execution_count": 48,
   "metadata": {},
   "outputs": [],
   "source": [
    "data = data.dropna(subset=['Duration'])"
   ]
  },
  {
   "cell_type": "markdown",
   "metadata": {},
   "source": [
    "*Datewise total duration for each inside and outside*"
   ]
  },
  {
   "cell_type": "code",
   "execution_count": 53,
   "metadata": {},
   "outputs": [],
   "source": [
    "duration_summary = data.groupby(['date', 'location','position'])['Duration'].sum().reset_index()"
   ]
  },
  {
   "cell_type": "code",
   "execution_count": 54,
   "metadata": {},
   "outputs": [
    {
     "name": "stdout",
     "output_type": "stream",
     "text": [
      "         date location position        Duration\n",
      "0  2024-01-16       A1   inside 0 days 09:10:10\n",
      "1  2024-01-16      A10   inside 0 days 10:11:00\n",
      "2  2024-01-16      A11   inside 0 days 10:15:00\n",
      "3  2024-01-16      A12   inside 0 days 10:17:00\n",
      "4  2024-01-16      A13   inside 0 days 10:21:00\n",
      "..        ...      ...      ...             ...\n",
      "76 2024-01-18       A6  outside 0 days 02:15:45\n",
      "77 2024-01-18       A7   Inside 0 days 02:28:33\n",
      "78 2024-01-18       A7   inside 1 days 01:51:10\n",
      "79 2024-01-18       A8   inside 1 days 04:26:10\n",
      "80 2024-01-18       A9   inside 1 days 04:23:10\n",
      "\n",
      "[81 rows x 4 columns]\n"
     ]
    }
   ],
   "source": [
    "print(duration_summary)"
   ]
  },
  {
   "cell_type": "code",
   "execution_count": 51,
   "metadata": {},
   "outputs": [],
   "source": [
    "duration_summary.to_csv('duration_summary.csv', index=False)"
   ]
  },
  {
   "cell_type": "code",
   "execution_count": 52,
   "metadata": {},
   "outputs": [
    {
     "data": {
      "text/html": [
       "<div>\n",
       "<style scoped>\n",
       "    .dataframe tbody tr th:only-of-type {\n",
       "        vertical-align: middle;\n",
       "    }\n",
       "\n",
       "    .dataframe tbody tr th {\n",
       "        vertical-align: top;\n",
       "    }\n",
       "\n",
       "    .dataframe thead th {\n",
       "        text-align: right;\n",
       "    }\n",
       "</style>\n",
       "<table border=\"1\" class=\"dataframe\">\n",
       "  <thead>\n",
       "    <tr style=\"text-align: right;\">\n",
       "      <th></th>\n",
       "      <th>date</th>\n",
       "      <th>location</th>\n",
       "      <th>Duration</th>\n",
       "    </tr>\n",
       "  </thead>\n",
       "  <tbody>\n",
       "    <tr>\n",
       "      <th>0</th>\n",
       "      <td>2024-01-16</td>\n",
       "      <td>A1</td>\n",
       "      <td>0 days 09:10:10</td>\n",
       "    </tr>\n",
       "    <tr>\n",
       "      <th>1</th>\n",
       "      <td>2024-01-16</td>\n",
       "      <td>A10</td>\n",
       "      <td>0 days 10:11:00</td>\n",
       "    </tr>\n",
       "    <tr>\n",
       "      <th>2</th>\n",
       "      <td>2024-01-16</td>\n",
       "      <td>A11</td>\n",
       "      <td>0 days 10:15:00</td>\n",
       "    </tr>\n",
       "    <tr>\n",
       "      <th>3</th>\n",
       "      <td>2024-01-16</td>\n",
       "      <td>A12</td>\n",
       "      <td>0 days 10:17:00</td>\n",
       "    </tr>\n",
       "    <tr>\n",
       "      <th>4</th>\n",
       "      <td>2024-01-16</td>\n",
       "      <td>A13</td>\n",
       "      <td>0 days 10:21:00</td>\n",
       "    </tr>\n",
       "  </tbody>\n",
       "</table>\n",
       "</div>"
      ],
      "text/plain": [
       "         date location         Duration\n",
       "0  2024-01-16       A1  0 days 09:10:10\n",
       "1  2024-01-16      A10  0 days 10:11:00\n",
       "2  2024-01-16      A11  0 days 10:15:00\n",
       "3  2024-01-16      A12  0 days 10:17:00\n",
       "4  2024-01-16      A13  0 days 10:21:00"
      ]
     },
     "execution_count": 52,
     "metadata": {},
     "output_type": "execute_result"
    }
   ],
   "source": [
    "df= pd.read_csv('duration_summary.csv')\n",
    "df.head()"
   ]
  },
  {
   "cell_type": "markdown",
   "metadata": {},
   "source": [
    "*Datewise number of picking and placing activity done*"
   ]
  },
  {
   "cell_type": "code",
   "execution_count": 40,
   "metadata": {},
   "outputs": [],
   "source": [
    "activity_count = data.groupby(['date', 'activity']).size().unstack(fill_value=0)"
   ]
  },
  {
   "cell_type": "code",
   "execution_count": 41,
   "metadata": {},
   "outputs": [],
   "source": [
    "activity_count.columns = ['placing', 'picking']"
   ]
  },
  {
   "cell_type": "code",
   "execution_count": 42,
   "metadata": {},
   "outputs": [
    {
     "name": "stdout",
     "output_type": "stream",
     "text": [
      "            placing  picking\n",
      "date                        \n",
      "2024-01-16       26       26\n",
      "2024-01-17       10        9\n",
      "2024-01-18       34       36\n"
     ]
    }
   ],
   "source": [
    "print(activity_count)"
   ]
  },
  {
   "cell_type": "code",
   "execution_count": 43,
   "metadata": {},
   "outputs": [],
   "source": [
    "activity_count.to_csv('activity_count.csv')"
   ]
  },
  {
   "cell_type": "code",
   "execution_count": null,
   "metadata": {},
   "outputs": [],
   "source": []
  }
 ],
 "metadata": {
  "kernelspec": {
   "display_name": "py3_knime_dl",
   "language": "python",
   "name": "python3"
  },
  "language_info": {
   "codemirror_mode": {
    "name": "ipython",
    "version": 3
   },
   "file_extension": ".py",
   "mimetype": "text/x-python",
   "name": "python",
   "nbconvert_exporter": "python",
   "pygments_lexer": "ipython3",
   "version": "3.10.11"
  }
 },
 "nbformat": 4,
 "nbformat_minor": 2
}
